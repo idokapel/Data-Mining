{
 "cells": [
  {
   "cell_type": "code",
   "execution_count": 1,
   "id": "7bff8648-08c1-440d-b9af-a16071f2f1ac",
   "metadata": {},
   "outputs": [],
   "source": [
    "import requests\n",
    "import json\n",
    "import pandas as pd"
   ]
  },
  {
   "cell_type": "code",
   "execution_count": 2,
   "id": "0fadec7b-645b-4d90-a2ee-29bc4cfd4c42",
   "metadata": {},
   "outputs": [],
   "source": [
    "columns = ['Target', 'Distance_km', 'Duration', 'Longitude', 'Latitude']\n",
    "df = pd.DataFrame(index=range(0,5), columns=columns)"
   ]
  },
  {
   "cell_type": "code",
   "execution_count": 3,
   "id": "251262a4-2ec2-4cd3-a6af-8a939c22c3f6",
   "metadata": {},
   "outputs": [],
   "source": [
    "dests = []\n",
    "with open(\"dests.txt\") as f:\n",
    "    lines = f.readlines()\n",
    "    for line in lines:\n",
    "        dests.append(line.strip())\n",
    "with open(\"C:\\עידו\\אוניברסיטת אריאל\\שנה ג\\סמסטר ב\\כרייה וניתוח נתונים מתקדם בפייתון\\Google API KEY.txt\") as f:\n",
    "    api_key = f.read()"
   ]
  },
  {
   "cell_type": "code",
   "execution_count": 4,
   "id": "2cf3b4bc-17ea-4b88-9735-ffe28b1322d7",
   "metadata": {},
   "outputs": [],
   "source": [
    "def get_geocode(dest, api_key):\n",
    "    url = f\"https://maps.googleapis.com/maps/api/geocode/json?address={dest}&key={api_key}\"\n",
    "    response = requests.get(url).json()\n",
    "    if response[\"status\"] != 'OK':\n",
    "        return None, None\n",
    "    latitude = response['results'][0][\"geometry\"][\"location\"]['lat']\n",
    "    longitude = response['results'][0][\"geometry\"][\"location\"]['lng']\n",
    "    return latitude, longitude"
   ]
  },
  {
   "cell_type": "code",
   "execution_count": 5,
   "id": "417acb9a-138f-4b63-aff1-370bb6ea33c9",
   "metadata": {},
   "outputs": [],
   "source": [
    "def get_distance_matrix(dest, api_key):\n",
    "    url = f'https://maps.googleapis.com/maps/api/distancematrix/json?origins=תל%אביב&destinations={dest}&units=metric&key={api_key}'\n",
    "    response = requests.get(url).json()\n",
    "    if response[\"status\"] != 'OK':\n",
    "        return None, None\n",
    "    distance = response['rows'][0]['elements'][0]['distance']['value']\n",
    "    duration = response['rows'][0]['elements'][0]['duration']['value']/60 # returns as seconds\n",
    "    return distance, duration"
   ]
  },
  {
   "cell_type": "code",
   "execution_count": 6,
   "id": "f100322a-2e55-4dfe-bb0e-da72062ad141",
   "metadata": {},
   "outputs": [],
   "source": [
    "for ind, dest in enumerate(dests):\n",
    "    distance, duration = get_distance_matrix(dest, api_key)\n",
    "    latitude, longitude = get_geocode(dest, api_key)\n",
    "    df.loc[ind, 'Target'] = dest\n",
    "    df.loc[ind, 'Distance_km'] = distance\n",
    "    df.loc[ind, 'Duration'] = duration\n",
    "    df.loc[ind, 'Longitude'] = longitude\n",
    "    df.loc[ind, 'Latitude'] = latitude\n",
    "df['Duration'] = df['Duration'].apply(lambda x: f\"{int(x) // 60:02d}:{int(x) % 60:02d}\")"
   ]
  },
  {
   "cell_type": "code",
   "execution_count": 7,
   "id": "35ce1eb0-e95e-4926-b3dd-ee08748f5902",
   "metadata": {},
   "outputs": [
    {
     "data": {
      "text/html": [
       "<div>\n",
       "<style scoped>\n",
       "    .dataframe tbody tr th:only-of-type {\n",
       "        vertical-align: middle;\n",
       "    }\n",
       "\n",
       "    .dataframe tbody tr th {\n",
       "        vertical-align: top;\n",
       "    }\n",
       "\n",
       "    .dataframe thead th {\n",
       "        text-align: right;\n",
       "    }\n",
       "</style>\n",
       "<table border=\"1\" class=\"dataframe\">\n",
       "  <thead>\n",
       "    <tr style=\"text-align: right;\">\n",
       "      <th></th>\n",
       "      <th>Target</th>\n",
       "      <th>Distance_km</th>\n",
       "      <th>Duration</th>\n",
       "      <th>Longitude</th>\n",
       "      <th>Latitude</th>\n",
       "    </tr>\n",
       "  </thead>\n",
       "  <tbody>\n",
       "    <tr>\n",
       "      <th>0</th>\n",
       "      <td>Istanbul</td>\n",
       "      <td>1815227</td>\n",
       "      <td>21:02</td>\n",
       "      <td>28.978359</td>\n",
       "      <td>41.008238</td>\n",
       "    </tr>\n",
       "    <tr>\n",
       "      <th>1</th>\n",
       "      <td>Amsterdam</td>\n",
       "      <td>4532541</td>\n",
       "      <td>48:03</td>\n",
       "      <td>4.904139</td>\n",
       "      <td>52.367573</td>\n",
       "    </tr>\n",
       "    <tr>\n",
       "      <th>2</th>\n",
       "      <td>Valletta</td>\n",
       "      <td>3792883</td>\n",
       "      <td>50:52</td>\n",
       "      <td>14.5141</td>\n",
       "      <td>35.899237</td>\n",
       "    </tr>\n",
       "    <tr>\n",
       "      <th>3</th>\n",
       "      <td>Basel</td>\n",
       "      <td>4092805</td>\n",
       "      <td>44:02</td>\n",
       "      <td>7.588576</td>\n",
       "      <td>47.559599</td>\n",
       "    </tr>\n",
       "    <tr>\n",
       "      <th>4</th>\n",
       "      <td>Doha</td>\n",
       "      <td>2164477</td>\n",
       "      <td>22:38</td>\n",
       "      <td>51.53104</td>\n",
       "      <td>25.285447</td>\n",
       "    </tr>\n",
       "  </tbody>\n",
       "</table>\n",
       "</div>"
      ],
      "text/plain": [
       "      Target Distance_km Duration  Longitude   Latitude\n",
       "0   Istanbul     1815227    21:02  28.978359  41.008238\n",
       "1  Amsterdam     4532541    48:03   4.904139  52.367573\n",
       "2   Valletta     3792883    50:52    14.5141  35.899237\n",
       "3      Basel     4092805    44:02   7.588576  47.559599\n",
       "4       Doha     2164477    22:38   51.53104  25.285447"
      ]
     },
     "execution_count": 7,
     "metadata": {},
     "output_type": "execute_result"
    }
   ],
   "source": [
    "df"
   ]
  },
  {
   "cell_type": "code",
   "execution_count": 8,
   "id": "a68479d7-5a6e-407f-8e39-67bc93a3f868",
   "metadata": {},
   "outputs": [
    {
     "data": {
      "text/html": [
       "<div>\n",
       "<style scoped>\n",
       "    .dataframe tbody tr th:only-of-type {\n",
       "        vertical-align: middle;\n",
       "    }\n",
       "\n",
       "    .dataframe tbody tr th {\n",
       "        vertical-align: top;\n",
       "    }\n",
       "\n",
       "    .dataframe thead th {\n",
       "        text-align: right;\n",
       "    }\n",
       "</style>\n",
       "<table border=\"1\" class=\"dataframe\">\n",
       "  <thead>\n",
       "    <tr style=\"text-align: right;\">\n",
       "      <th></th>\n",
       "      <th>Target</th>\n",
       "      <th>Distance_km</th>\n",
       "      <th>Duration</th>\n",
       "      <th>Longitude</th>\n",
       "      <th>Latitude</th>\n",
       "    </tr>\n",
       "  </thead>\n",
       "  <tbody>\n",
       "    <tr>\n",
       "      <th>1</th>\n",
       "      <td>Amsterdam</td>\n",
       "      <td>4532541</td>\n",
       "      <td>48:03</td>\n",
       "      <td>4.904139</td>\n",
       "      <td>52.367573</td>\n",
       "    </tr>\n",
       "    <tr>\n",
       "      <th>3</th>\n",
       "      <td>Basel</td>\n",
       "      <td>4092805</td>\n",
       "      <td>44:02</td>\n",
       "      <td>7.588576</td>\n",
       "      <td>47.559599</td>\n",
       "    </tr>\n",
       "    <tr>\n",
       "      <th>2</th>\n",
       "      <td>Valletta</td>\n",
       "      <td>3792883</td>\n",
       "      <td>50:52</td>\n",
       "      <td>14.5141</td>\n",
       "      <td>35.899237</td>\n",
       "    </tr>\n",
       "  </tbody>\n",
       "</table>\n",
       "</div>"
      ],
      "text/plain": [
       "      Target Distance_km Duration Longitude   Latitude\n",
       "1  Amsterdam     4532541    48:03  4.904139  52.367573\n",
       "3      Basel     4092805    44:02  7.588576  47.559599\n",
       "2   Valletta     3792883    50:52   14.5141  35.899237"
      ]
     },
     "execution_count": 8,
     "metadata": {},
     "output_type": "execute_result"
    }
   ],
   "source": [
    "df.sort_values(by='Distance_km', ascending=False).head(3)"
   ]
  },
  {
   "cell_type": "code",
   "execution_count": null,
   "id": "102a5a69-ef2d-449c-a028-acd481b3ffa6",
   "metadata": {},
   "outputs": [],
   "source": []
  }
 ],
 "metadata": {
  "kernelspec": {
   "display_name": "Python 3 (ipykernel)",
   "language": "python",
   "name": "python3"
  },
  "language_info": {
   "codemirror_mode": {
    "name": "ipython",
    "version": 3
   },
   "file_extension": ".py",
   "mimetype": "text/x-python",
   "name": "python",
   "nbconvert_exporter": "python",
   "pygments_lexer": "ipython3",
   "version": "3.9.6"
  }
 },
 "nbformat": 4,
 "nbformat_minor": 5
}
